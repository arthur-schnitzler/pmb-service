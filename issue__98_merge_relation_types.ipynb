{
 "cells": [
  {
   "cell_type": "code",
   "execution_count": null,
   "id": "650201bc-feec-413d-a62f-a0e910103a03",
   "metadata": {},
   "outputs": [],
   "source": [
    "import pandas as pd\n",
    "from django.apps import apps\n",
    "from apis_core.apis_vocabularies.models import PersonPlaceRelation"
   ]
  },
  {
   "cell_type": "code",
   "execution_count": null,
   "id": "af1eaee9-28bd-42d6-b253-a64e07ab1a8c",
   "metadata": {},
   "outputs": [],
   "source": [
    "models = list(apps.all_models[\"apis_vocabularies\"].values())\n",
    "models = [x for x in models if x.__name__.endswith(\"Relation\")]"
   ]
  },
  {
   "cell_type": "code",
   "execution_count": null,
   "id": "61591d05-0550-4cfd-a418-9a132ca02da9",
   "metadata": {},
   "outputs": [],
   "source": [
    "values_list = [\"id\", \"name\"]\n",
    "for x in models:\n",
    "    model_name = x.__name__\n",
    "    relation_class_name = model_name.lower().replace(\"relation\", \"\")\n",
    "    relation_class = apps.get_model(app_label=\"apis_relations\", model_name=relation_class_name)\n",
    "    items = x.objects.values_list(*values_list)\n",
    "    df = pd.DataFrame(items, columns=values_list)\n",
    "    for g, ndf in df.groupby(\"name\"):\n",
    "        if len(ndf) > 1:\n",
    "            print(g, len(ndf))\n",
    "            vocabs = list(ndf[\"id\"])\n",
    "            vocab_keep = x.objects.get(id=vocabs[0])\n",
    "            relation_objects_keep = relation_class.objects.filter(relation_type=vocabs[0])\n",
    "            relation_objects_change = relation_class.objects.filter(relation_type__in=vocabs[1:])\n",
    "            print(f\"keep: {relation_objects_keep.count()}; change: {relation_objects_change.count()}\")\n",
    "            for y in relation_objects_change:\n",
    "                y.relation_type = vocab_keep\n",
    "                y.save()\n",
    "            for to_go in x.objects.filter(id__in=vocabs[1:]):\n",
    "                to_go.delete()\n",
    "    \n"
   ]
  }
 ],
 "metadata": {
  "kernelspec": {
   "display_name": "Django Shell-Plus",
   "language": "python",
   "name": "django_extensions"
  },
  "language_info": {
   "codemirror_mode": {
    "name": "ipython",
    "version": 3
   },
   "file_extension": ".py",
   "mimetype": "text/x-python",
   "name": "python",
   "nbconvert_exporter": "python",
   "pygments_lexer": "ipython3",
   "version": "3.12.3"
  }
 },
 "nbformat": 4,
 "nbformat_minor": 5
}
