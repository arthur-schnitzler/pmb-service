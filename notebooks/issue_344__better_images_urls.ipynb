{
 "cells": [
  {
   "cell_type": "code",
   "execution_count": null,
   "id": "38b6283c-9cc3-4045-b6e1-101fe5d9a262",
   "metadata": {},
   "outputs": [],
   "source": [
    "# 2025-06-02 run against production\n",
    "from tqdm import tqdm"
   ]
  },
  {
   "cell_type": "code",
   "execution_count": null,
   "id": "80189735-1cef-4e62-94ab-a848945fbad8",
   "metadata": {},
   "outputs": [],
   "source": [
    "image_entities = TempEntityClass.objects.filter(img_url__icontains=\"wikimedia.org/w/index.php?\")"
   ]
  },
  {
   "cell_type": "code",
   "execution_count": null,
   "id": "e121e335-7373-4306-b5d8-9b08d52aa93f",
   "metadata": {},
   "outputs": [],
   "source": [
    "for x in tqdm(image_entities, total=image_entities.count()):\n",
    "    x.fetch_image(override=True)"
   ]
  },
  {
   "cell_type": "code",
   "execution_count": null,
   "id": "c65d3323-fb22-41dc-b02a-455906c67d56",
   "metadata": {},
   "outputs": [],
   "source": []
  }
 ],
 "metadata": {
  "kernelspec": {
   "display_name": "Django Shell-Plus",
   "language": "python",
   "name": "django_extensions"
  },
  "language_info": {
   "codemirror_mode": {
    "name": "ipython",
    "version": 3
   },
   "file_extension": ".py",
   "mimetype": "text/x-python",
   "name": "python",
   "nbconvert_exporter": "python",
   "pygments_lexer": "ipython3",
   "version": "3.12.3"
  }
 },
 "nbformat": 4,
 "nbformat_minor": 5
}
