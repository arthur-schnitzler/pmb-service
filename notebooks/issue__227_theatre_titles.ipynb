{
 "cells": [
  {
   "cell_type": "code",
   "execution_count": null,
   "id": "535b021a-300f-4140-96b6-5a50b96336bc",
   "metadata": {},
   "outputs": [],
   "source": [
    "# run against production 2024-10-16\n",
    "from tqdm import tqdm\n",
    "from dumper.utils import gsheet_to_df\n",
    "from apis_core.utils import get_object_from_pk_or_uri"
   ]
  },
  {
   "cell_type": "code",
   "execution_count": null,
   "id": "a914f665-cd8b-4698-8499-e4fb92c9f709",
   "metadata": {},
   "outputs": [],
   "source": [
    "df = gsheet_to_df(\"1wgLHBHeJECkmgJUIpPdG-JS8F-0ht_LdVTxNmWwW8O0\")"
   ]
  },
  {
   "cell_type": "code",
   "execution_count": null,
   "id": "08aefefc-762f-4400-9893-1043d69ca874",
   "metadata": {},
   "outputs": [],
   "source": [
    "col, _ = Collection.objects.get_or_create(name=\"Schnitzler-Theater\")"
   ]
  },
  {
   "cell_type": "code",
   "execution_count": null,
   "id": "d6e188f0-371b-4527-8df1-3758d8eeee85",
   "metadata": {},
   "outputs": [],
   "source": [
    "# don't run twice!!!\n",
    "pmb_ids = []\n",
    "for i, row in tqdm(df.iterrows()):\n",
    "    work = Work.objects.create(name=row[\"Title\"])\n",
    "    pmb_ids.append(work.id)\n",
    "    work.collection.add(col)\n",
    "    uri, _ = Uri.objects.get_or_create(\n",
    "        uri=f'https://{row[\"URI\"]}',\n",
    "        domain=\"schnitzler-theater\",\n",
    "        entity=work\n",
    "    )"
   ]
  },
  {
   "cell_type": "code",
   "execution_count": null,
   "id": "a845af15-a476-4e16-a8c1-ed33d1c7da86",
   "metadata": {},
   "outputs": [],
   "source": [
    "df[\"pmb_ids\"] = pmb_ids"
   ]
  },
  {
   "cell_type": "code",
   "execution_count": null,
   "id": "b682fa0f-4b92-4f90-b2c8-53d0f9f332a0",
   "metadata": {},
   "outputs": [],
   "source": [
    "df.to_csv(\"theater-uris.csv\", index=False)"
   ]
  },
  {
   "cell_type": "code",
   "execution_count": null,
   "id": "63d06a2d-bc85-4ae4-8142-a287f471a2fa",
   "metadata": {},
   "outputs": [],
   "source": []
  }
 ],
 "metadata": {
  "kernelspec": {
   "display_name": "Django Shell-Plus",
   "language": "python",
   "name": "django_extensions"
  },
  "language_info": {
   "codemirror_mode": {
    "name": "ipython",
    "version": 3
   },
   "file_extension": ".py",
   "mimetype": "text/x-python",
   "name": "python",
   "nbconvert_exporter": "python",
   "pygments_lexer": "ipython3",
   "version": "3.12.3"
  }
 },
 "nbformat": 4,
 "nbformat_minor": 5
}
