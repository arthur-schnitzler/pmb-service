{
 "cells": [
  {
   "cell_type": "code",
   "execution_count": null,
   "id": "184f8936-f216-4d72-ae32-32f38166cce1",
   "metadata": {},
   "outputs": [],
   "source": [
    "# 2025-05-12 run against production\n",
    "import pandas as pd\n",
    "from tqdm import tqdm"
   ]
  },
  {
   "cell_type": "code",
   "execution_count": null,
   "id": "e237cb60-eee6-4c73-b1c2-9ab8c5606482",
   "metadata": {},
   "outputs": [],
   "source": [
    "values_list = [\n",
    "    \"id\",\n",
    "    \"related_person__id\",\n",
    "    \"related_work__id\",\n",
    "    \"related_person__end_date\",\n",
    "    \"related_person__name\",\n",
    "    \"related_work__name\",\n",
    "    \"start_date\"\n",
    "]"
   ]
  },
  {
   "cell_type": "code",
   "execution_count": null,
   "id": "4d4dacde-8780-46ae-9f5e-608185fff634",
   "metadata": {},
   "outputs": [],
   "source": [
    "items = PersonWork.objects.exclude(start_date=None).values_list(*values_list)"
   ]
  },
  {
   "cell_type": "code",
   "execution_count": null,
   "id": "944492a7-fc18-4dd7-b224-8f19f8287dc0",
   "metadata": {},
   "outputs": [],
   "source": [
    "df = pd.DataFrame(items, columns=values_list)"
   ]
  },
  {
   "cell_type": "code",
   "execution_count": null,
   "id": "9bf512af-0256-4602-9efd-2122048f66c7",
   "metadata": {},
   "outputs": [],
   "source": [
    "filtered_df = df[df['start_date'] > df['related_person__end_date']]"
   ]
  },
  {
   "cell_type": "code",
   "execution_count": null,
   "id": "22f9ba02-4d3f-47e1-8b7a-9598c51c2a45",
   "metadata": {},
   "outputs": [],
   "source": [
    "for i, row in tqdm(filtered_df.iterrows(), total=len(filtered_df)):\n",
    "    item = PersonWork.objects.get(id=int(row[\"id\"]))\n",
    "    item.start_date_written = None\n",
    "    item.save()"
   ]
  },
  {
   "cell_type": "code",
   "execution_count": null,
   "id": "7888733b-dace-4597-ade1-907352831122",
   "metadata": {},
   "outputs": [],
   "source": []
  }
 ],
 "metadata": {
  "kernelspec": {
   "display_name": "Django Shell-Plus",
   "language": "python",
   "name": "django_extensions"
  },
  "language_info": {
   "codemirror_mode": {
    "name": "ipython",
    "version": 3
   },
   "file_extension": ".py",
   "mimetype": "text/x-python",
   "name": "python",
   "nbconvert_exporter": "python",
   "pygments_lexer": "ipython3",
   "version": "3.12.3"
  }
 },
 "nbformat": 4,
 "nbformat_minor": 5
}
