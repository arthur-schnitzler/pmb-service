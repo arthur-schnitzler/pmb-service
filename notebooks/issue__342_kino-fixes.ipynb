{
 "cells": [
  {
   "cell_type": "code",
   "execution_count": null,
   "id": "31564460-1e12-4375-917d-f7e05002f57d",
   "metadata": {},
   "outputs": [],
   "source": [
    "# run against production 2025-06-03\n",
    "from tqdm import tqdm\n",
    "from csae_pyutils import gsheet_to_df\n",
    "from django.core.exceptions import ObjectDoesNotExist\n",
    "from django.db import IntegrityError\n",
    "from apis_core.utils import get_object_from_pk_or_uri\n",
    "from AcdhArcheAssets.uri_norm_rules import get_normalized_uri\n",
    "import pandas as pd"
   ]
  },
  {
   "cell_type": "code",
   "execution_count": null,
   "id": "b3ba4507-d4f2-44ab-a88a-1021d00aeff2",
   "metadata": {},
   "outputs": [],
   "source": [
    "col, _ = Collection.objects.get_or_create(name=\"Schnitzler-Kino\")"
   ]
  },
  {
   "cell_type": "code",
   "execution_count": null,
   "id": "087fd385-0529-459f-a612-265dffa1a931",
   "metadata": {},
   "outputs": [],
   "source": [
    "df = gsheet_to_df(\"1PjIbMdRQAA1erSfn88EDTTTtIyx0zLqYiWKp1FGFFis\")"
   ]
  },
  {
   "cell_type": "code",
   "execution_count": null,
   "id": "6345fee3-2247-4872-8cc9-073c87a79a0b",
   "metadata": {},
   "outputs": [],
   "source": [
    "for g, ndf in df.groupby(\"target_id\"):\n",
    "    row = ndf.iloc[0]\n",
    "    item = TempEntityClass.objects.get(id=g)\n",
    "    if not \"nodate\" in row.target_start_date_written:\n",
    "        item.start_date_written = row.target_start_date_written\n",
    "        item.save()"
   ]
  },
  {
   "cell_type": "code",
   "execution_count": null,
   "id": "f8e859b8-ef4d-4776-92cf-92e145935571",
   "metadata": {},
   "outputs": [],
   "source": [
    "for g, ndf in df.groupby(\"source_id\"):\n",
    "    row = ndf.iloc[0]\n",
    "    item = Person.objects.get(id=g)\n",
    "    if not \"nodate\" in row.source_start_date_written:\n",
    "        item.start_date_written = row.source_start_date_written\n",
    "        item.save()"
   ]
  },
  {
   "cell_type": "code",
   "execution_count": null,
   "id": "29a4af65-69b4-4500-8df0-308bdcf45734",
   "metadata": {},
   "outputs": [],
   "source": [
    "df.replace(\"nodate\", \"\", inplace=True)"
   ]
  },
  {
   "cell_type": "code",
   "execution_count": null,
   "id": "c92c26ca-ec2e-490c-948a-a12608ed8610",
   "metadata": {},
   "outputs": [],
   "source": [
    "does_not_exist = []\n",
    "for i, row in tqdm(df.iterrows(), total=len(df)):\n",
    "    try:\n",
    "        item = PersonWork.objects.get(id=row[\"relation_pk\"])\n",
    "    except ObjectDoesNotExist:\n",
    "        does_not_exist.append(row[\"relation_pk\"])\n",
    "    relation_type = PersonWorkRelation.objects.get(name=row[\"relation_type\"])\n",
    "    item.relation_type = relation_type\n",
    "    item.related_person = Person.objects.get(id=row[\"source_id\"])\n",
    "    item.related_work = Work.objects.get(id=row[\"target_id\"])\n",
    "    item.start_date_written = row[\"relation_start_date_written\"]\n",
    "    item.end_date_written = row[\"relation_end_date_written\"]\n",
    "    item.save()\n",
    "    "
   ]
  },
  {
   "cell_type": "code",
   "execution_count": null,
   "id": "8151ae2d-bba8-40f7-a2ad-633fec90d182",
   "metadata": {},
   "outputs": [],
   "source": [
    "for x in does_not_exist:\n",
    "    print(x)"
   ]
  },
  {
   "cell_type": "code",
   "execution_count": null,
   "id": "04420ff6-f7b4-4ab5-94e2-668fd8490ca3",
   "metadata": {},
   "outputs": [],
   "source": []
  }
 ],
 "metadata": {
  "kernelspec": {
   "display_name": "Django Shell-Plus",
   "language": "python",
   "name": "django_extensions"
  },
  "language_info": {
   "codemirror_mode": {
    "name": "ipython",
    "version": 3
   },
   "file_extension": ".py",
   "mimetype": "text/x-python",
   "name": "python",
   "nbconvert_exporter": "python",
   "pygments_lexer": "ipython3",
   "version": "3.12.3"
  }
 },
 "nbformat": 4,
 "nbformat_minor": 5
}
