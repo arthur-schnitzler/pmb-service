{
 "cells": [
  {
   "cell_type": "code",
   "execution_count": null,
   "id": "b5424ff8-120b-47e5-86a1-a1f77be3a06a",
   "metadata": {},
   "outputs": [],
   "source": [
    "# 2025-09-02 run against production\n",
    "from tqdm import tqdm\n",
    "from csae_pyutils import gsheet_to_df"
   ]
  },
  {
   "cell_type": "code",
   "execution_count": null,
   "id": "438cd165-0559-4bb7-8ef4-3afcac808a1c",
   "metadata": {},
   "outputs": [],
   "source": [
    "df = gsheet_to_df(\"1W4be-ktx63gks3mwG9xdUn1D-PunjbBnGRUOY8Nswp8\")"
   ]
  },
  {
   "cell_type": "code",
   "execution_count": null,
   "id": "0b477f1f-3664-4a46-bd2d-777dbb4ad889",
   "metadata": {},
   "outputs": [],
   "source": [
    "df"
   ]
  },
  {
   "cell_type": "code",
   "execution_count": null,
   "id": "39ab0746-d48d-44ab-82ac-580bd2a892eb",
   "metadata": {},
   "outputs": [],
   "source": [
    "person = Person.objects.get(id=2121)\n",
    "person"
   ]
  },
  {
   "cell_type": "code",
   "execution_count": null,
   "id": "a5d047a2-f4b9-42ed-88be-4d7d98fcf726",
   "metadata": {},
   "outputs": [],
   "source": [
    "person_event_relation_type = PersonEventRelation.objects.get(id=1370)\n",
    "person_event_relation_type"
   ]
  },
  {
   "cell_type": "code",
   "execution_count": null,
   "id": "b188ea0f-b61e-4062-8e2f-b8b3136502e4",
   "metadata": {},
   "outputs": [],
   "source": [
    "place_event_relation_type = PlaceEventRelation.objects.get(id=1202)\n",
    "place_event_relation_type"
   ]
  },
  {
   "cell_type": "code",
   "execution_count": null,
   "id": "0f17e41b-b296-47ed-8943-390387d93808",
   "metadata": {},
   "outputs": [],
   "source": [
    "for g, ndf in tqdm(df.groupby(\"Ort\")):\n",
    "    place = Place.objects.get(id=g)\n",
    "    for i, row in ndf.iterrows():\n",
    "        date_written = row[\"ISO-Datum\"]\n",
    "        event_type = EventType.objects.get(id=row[\"Typ\"])\n",
    "        event, _ = Event.objects.get_or_create(name=row[\"Event-Name\"], start_date_written=date_written, kind=event_type)\n",
    "        PersonEvent.objects.get_or_create(related_person=person, related_event=event, relation_type=person_event_relation_type, start_date_written=date_written)\n",
    "        PlaceEvent.objects.get_or_create(related_place=place, related_event=event, relation_type=place_event_relation_type, start_date_written=date_written)"
   ]
  },
  {
   "cell_type": "code",
   "execution_count": null,
   "id": "0788a019-6e0c-4daf-a13c-0604cb20c656",
   "metadata": {},
   "outputs": [],
   "source": []
  }
 ],
 "metadata": {
  "kernelspec": {
   "display_name": "Django Shell-Plus",
   "language": "python",
   "name": "django_extensions"
  },
  "language_info": {
   "codemirror_mode": {
    "name": "ipython",
    "version": 3
   },
   "file_extension": ".py",
   "mimetype": "text/x-python",
   "name": "python",
   "nbconvert_exporter": "python",
   "pygments_lexer": "ipython3",
   "version": "3.12.3"
  }
 },
 "nbformat": 4,
 "nbformat_minor": 5
}
