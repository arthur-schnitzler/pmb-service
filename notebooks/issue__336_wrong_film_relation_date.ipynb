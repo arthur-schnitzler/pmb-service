{
 "cells": [
  {
   "cell_type": "code",
   "execution_count": null,
   "id": "ce5c40d1-9ab4-493f-91a0-32faa426b8db",
   "metadata": {},
   "outputs": [],
   "source": [
    "# 2025-05-09 run against production\n",
    "from tqdm import tqdm"
   ]
  },
  {
   "cell_type": "code",
   "execution_count": null,
   "id": "79138767-2c56-4703-9a93-03a2cb6f3def",
   "metadata": {},
   "outputs": [],
   "source": [
    "items = PersonWork.objects.filter(related_work__kind__name=\"Film\")"
   ]
  },
  {
   "cell_type": "code",
   "execution_count": null,
   "id": "f802b5fc-61c6-4c2b-aa98-f43a15ee319f",
   "metadata": {},
   "outputs": [],
   "source": [
    "for x in tqdm(items, total=items.count()):\n",
    "    x.start_date_written = x.related_work.start_date_written\n",
    "    x.end_date_written = x.related_work.end_date_written\n",
    "    x.save()"
   ]
  },
  {
   "cell_type": "code",
   "execution_count": null,
   "id": "b263cea5-26c5-4677-b499-75ee53dce0be",
   "metadata": {},
   "outputs": [],
   "source": []
  }
 ],
 "metadata": {
  "kernelspec": {
   "display_name": "Django Shell-Plus",
   "language": "python",
   "name": "django_extensions"
  },
  "language_info": {
   "codemirror_mode": {
    "name": "ipython",
    "version": 3
   },
   "file_extension": ".py",
   "mimetype": "text/x-python",
   "name": "python",
   "nbconvert_exporter": "python",
   "pygments_lexer": "ipython3",
   "version": "3.12.3"
  }
 },
 "nbformat": 4,
 "nbformat_minor": 5
}
