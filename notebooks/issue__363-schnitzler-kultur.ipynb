{
 "cells": [
  {
   "cell_type": "code",
   "execution_count": null,
   "id": "b5424ff8-120b-47e5-86a1-a1f77be3a06a",
   "metadata": {},
   "outputs": [],
   "source": [
    "# 2025-09-11 run against production\n",
    "from tqdm import tqdm\n",
    "from csae_pyutils import gsheet_to_df"
   ]
  },
  {
   "cell_type": "code",
   "execution_count": null,
   "id": "438cd165-0559-4bb7-8ef4-3afcac808a1c",
   "metadata": {},
   "outputs": [],
   "source": [
    "df = gsheet_to_df(\"1ogEAdaZ6AZoPIxSrvC8vVNqrgNW7TNHTz-OJ0h5jHtw\")"
   ]
  },
  {
   "cell_type": "code",
   "execution_count": null,
   "id": "0b477f1f-3664-4a46-bd2d-777dbb4ad889",
   "metadata": {},
   "outputs": [],
   "source": [
    "df"
   ]
  },
  {
   "cell_type": "code",
   "execution_count": null,
   "id": "39ab0746-d48d-44ab-82ac-580bd2a892eb",
   "metadata": {},
   "outputs": [],
   "source": [
    "domain = \"schnitzler-kultur\""
   ]
  },
  {
   "cell_type": "code",
   "execution_count": null,
   "id": "10162507-f642-4c9c-9c8c-36938d4f670e",
   "metadata": {},
   "outputs": [],
   "source": [
    "col, _ = Collection.objects.get_or_create(name=\"Schnitzler Kultur\")"
   ]
  },
  {
   "cell_type": "code",
   "execution_count": null,
   "id": "a5d047a2-f4b9-42ed-88be-4d7d98fcf726",
   "metadata": {},
   "outputs": [],
   "source": [
    "for i, row in tqdm(df.iterrows(), total=len(df)):\n",
    "    event = Event.objects.get(id=row[\"PMB\"])\n",
    "    event.collection.add(col)\n",
    "    uri = row[\"uri\"].replace(\"www.\", \"\")\n",
    "    uri, _ = Uri.objects.get_or_create(uri=uri, domain=domain, entity=event)"
   ]
  },
  {
   "cell_type": "code",
   "execution_count": null,
   "id": "0788a019-6e0c-4daf-a13c-0604cb20c656",
   "metadata": {},
   "outputs": [],
   "source": []
  }
 ],
 "metadata": {
  "kernelspec": {
   "display_name": "Django Shell-Plus",
   "language": "python",
   "name": "django_extensions"
  },
  "language_info": {
   "codemirror_mode": {
    "name": "ipython",
    "version": 3
   },
   "file_extension": ".py",
   "mimetype": "text/x-python",
   "name": "python",
   "nbconvert_exporter": "python",
   "pygments_lexer": "ipython3",
   "version": "3.12.3"
  }
 },
 "nbformat": 4,
 "nbformat_minor": 5
}
