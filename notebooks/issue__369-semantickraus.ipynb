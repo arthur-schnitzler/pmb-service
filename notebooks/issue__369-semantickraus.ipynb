{
 "cells": [
  {
   "cell_type": "code",
   "execution_count": null,
   "id": "1b65586d-d4ed-4723-96f3-fc30e57bcd0b",
   "metadata": {},
   "outputs": [],
   "source": [
    "# 2025-10-17 run against production\n",
    "import re\n",
    "from tqdm import tqdm\n",
    "from csae_pyutils import gsheet_to_df\n",
    "\n",
    "from apis_core.utils import get_object_from_pk_or_uri"
   ]
  },
  {
   "cell_type": "code",
   "execution_count": null,
   "id": "70a7fdec-7821-41fb-b02e-0d2b65282045",
   "metadata": {},
   "outputs": [],
   "source": [
    "df = gsheet_to_df(\"1Erzldh0IUqQaR1Kkw5aZyqTvhcSdBBLCRL3SyTCEkwM\")\n",
    "domain = \"semantickraus\""
   ]
  },
  {
   "cell_type": "code",
   "execution_count": null,
   "id": "a11ceef8-e91e-4d04-ad96-e4b45c174ec5",
   "metadata": {},
   "outputs": [],
   "source": [
    "col, _ = Collection.objects.get_or_create(name=\"SemanticKraus\")"
   ]
  },
  {
   "cell_type": "code",
   "execution_count": null,
   "id": "71ca025c-36f8-47d3-b0f0-b339933c5ee1",
   "metadata": {},
   "outputs": [],
   "source": [
    "for i, row in tqdm(df.iterrows(), total=len(df)):\n",
    "    uri = row[\"sk_uri\"].replace('\"', '')\n",
    "    raw_ent_uri = row[\"pmb_id\"]\n",
    "    pmb_id = re.findall(r'\\d+', raw_ent_uri)[0]\n",
    "    try:\n",
    "        entity = get_object_from_pk_or_uri(pmb_id)\n",
    "        entity.collection.add(col)\n",
    "    except Exception as e:\n",
    "        print(uri, raw_ent_uri, e)\n",
    "        continue\n",
    "    try:\n",
    "        uri = Uri.objects.get_or_create(uri=uri, domain=domain, entity=entity)\n",
    "    except:\n",
    "        continue\n",
    "    \n",
    "    "
   ]
  },
  {
   "cell_type": "code",
   "execution_count": null,
   "id": "b15dc8a8-f80b-4ad2-98ca-fc53b09a42a7",
   "metadata": {},
   "outputs": [],
   "source": []
  }
 ],
 "metadata": {
  "kernelspec": {
   "display_name": "Django Shell-Plus",
   "language": "python",
   "name": "django_extensions"
  },
  "language_info": {
   "codemirror_mode": {
    "name": "ipython",
    "version": 3
   },
   "file_extension": ".py",
   "mimetype": "text/x-python",
   "name": "python",
   "nbconvert_exporter": "python",
   "pygments_lexer": "ipython3",
   "version": "3.12.3"
  }
 },
 "nbformat": 4,
 "nbformat_minor": 5
}
