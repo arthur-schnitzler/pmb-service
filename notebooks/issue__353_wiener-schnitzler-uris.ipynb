{
 "cells": [
  {
   "cell_type": "code",
   "execution_count": null,
   "id": "1b65586d-d4ed-4723-96f3-fc30e57bcd0b",
   "metadata": {},
   "outputs": [],
   "source": [
    "# 2025-06-11 run against production\n",
    "from tqdm import tqdm\n",
    "from csae_pyutils import gsheet_to_df"
   ]
  },
  {
   "cell_type": "code",
   "execution_count": null,
   "id": "70a7fdec-7821-41fb-b02e-0d2b65282045",
   "metadata": {},
   "outputs": [],
   "source": [
    "df = gsheet_to_df(\"1UPot6v998RJbvqqdwZnmD_9263MgBsq93jkxNM41bCE\")"
   ]
  },
  {
   "cell_type": "code",
   "execution_count": null,
   "id": "a11ceef8-e91e-4d04-ad96-e4b45c174ec5",
   "metadata": {},
   "outputs": [],
   "source": [
    "col, _ = Collection.objects.get_or_create(name=\"Wiener Schnitzler – Schnitzlers Wien\")"
   ]
  },
  {
   "cell_type": "code",
   "execution_count": null,
   "id": "693ee4f3-8b99-4f31-a288-1ad0a6869ce4",
   "metadata": {
    "scrolled": true
   },
   "outputs": [],
   "source": [
    "df.head()"
   ]
  },
  {
   "cell_type": "code",
   "execution_count": null,
   "id": "71ca025c-36f8-47d3-b0f0-b339933c5ee1",
   "metadata": {},
   "outputs": [],
   "source": [
    "for i, row in tqdm(df.iterrows(), total=len(df)):\n",
    "    try:\n",
    "        entity = Place.objects.get(id=row[\"pmb\"])\n",
    "        entity.collection.add(col)\n",
    "    except Place.DoesNotExist:\n",
    "        print(row[\"pmb\"])\n",
    "    Uri.objects.get_or_create(uri=row[\"uri\"], domain=\"wienerschnitzler\", entity=entity)"
   ]
  },
  {
   "cell_type": "code",
   "execution_count": null,
   "id": "3282fa7e-9603-40ca-b1f7-88e4db0126b6",
   "metadata": {},
   "outputs": [],
   "source": []
  }
 ],
 "metadata": {
  "kernelspec": {
   "display_name": "Django Shell-Plus",
   "language": "python",
   "name": "django_extensions"
  },
  "language_info": {
   "codemirror_mode": {
    "name": "ipython",
    "version": 3
   },
   "file_extension": ".py",
   "mimetype": "text/x-python",
   "name": "python",
   "nbconvert_exporter": "python",
   "pygments_lexer": "ipython3",
   "version": "3.12.3"
  }
 },
 "nbformat": 4,
 "nbformat_minor": 5
}
