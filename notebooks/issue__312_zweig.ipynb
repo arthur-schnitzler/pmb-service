{
 "cells": [
  {
   "cell_type": "code",
   "execution_count": null,
   "id": "fa74e4a9-745b-4f16-adbb-e88ead714dca",
   "metadata": {},
   "outputs": [],
   "source": [
    "# run against production 2025-03-11\n",
    "from acdh_tei_pyutils.tei import TeiReader\n",
    "from acdh_tei_pyutils.utils import get_xmlid\n",
    "from acdh_xml_pyutils.xml import NSMAP\n",
    "from normdata.utils import import_from_normdata\n",
    "from tqdm import tqdm\n",
    "import pandas as pd"
   ]
  },
  {
   "cell_type": "code",
   "execution_count": null,
   "id": "a6f6885c-d316-4a3e-a103-cc3b269b6790",
   "metadata": {},
   "outputs": [],
   "source": [
    "col, _ = Collection.objects.get_or_create(name=\"Stefan Zweig digital\")\n",
    "domain = \"zweig-digital\"\n",
    "col_type, _ = CollectionType.objects.get_or_create(name=\"Projekt\")\n",
    "col.description = \"https://www.stefanzweig.digital\"\n",
    "col.collection_type = col_type\n",
    "col.save()"
   ]
  },
  {
   "cell_type": "code",
   "execution_count": null,
   "id": "07c1a4fe-4673-470c-a3dc-94e29d98202d",
   "metadata": {},
   "outputs": [],
   "source": [
    "doc = TeiReader(\"https://www.stefanzweig.digital/o:szd.personen/TEI_SOURCE\")"
   ]
  },
  {
   "cell_type": "code",
   "execution_count": null,
   "id": "894f426d-17e5-4942-b61a-61b70304f209",
   "metadata": {},
   "outputs": [],
   "source": [
    "items = doc.any_xpath(\".//tei:person[./tei:persName[@ref]]\")\n",
    "len(items)"
   ]
  },
  {
   "cell_type": "code",
   "execution_count": null,
   "id": "374bfeb6-3e71-4573-a655-44ef111e5c05",
   "metadata": {
    "scrolled": true
   },
   "outputs": [],
   "source": [
    "broken_gnd = []\n",
    "pmb_uris = []\n",
    "for x in tqdm(items, total=len(items)):\n",
    "    xml_id = get_xmlid(x)\n",
    "    domain_uri = f\"https://www.stefanzweig.digital/o:szd.personen/sdef:TEI/get#{xml_id}\"\n",
    "    gnd_uri = x.xpath(\"./tei:persName/@ref\", namespaces=NSMAP)[0].split()[0]\n",
    "    entity = import_from_normdata(gnd_uri, \"person\")\n",
    "    if entity:\n",
    "        pmb_uri, _ = Uri.objects.get_or_create(uri=domain_uri, domain=domain)\n",
    "        pmb_uri.entity = entity\n",
    "        pmb_uri.save()\n",
    "        entity.collection.add(col)\n",
    "        pmb_uris.append([xml_id, entity.id])\n",
    "    else:\n",
    "        broken_gnd.append(gnd_uri)"
   ]
  },
  {
   "cell_type": "code",
   "execution_count": null,
   "id": "145165a6-6b6a-46c6-858d-7efef914e263",
   "metadata": {},
   "outputs": [],
   "source": [
    "df = pd.DataFrame(pmb_uris)\n",
    "df.to_csv('zweig_pmb.csv', index=False)"
   ]
  },
  {
   "cell_type": "code",
   "execution_count": null,
   "id": "168c5788-62bb-4712-932c-cc256fdc6675",
   "metadata": {},
   "outputs": [],
   "source": [
    "df = pd.DataFrame(broken_gnd)\n",
    "df.to_csv('zweig_broken_gnd.csv', index=False)"
   ]
  },
  {
   "cell_type": "code",
   "execution_count": null,
   "id": "79457de3-a6ad-47b8-8115-780574d8469d",
   "metadata": {},
   "outputs": [],
   "source": []
  }
 ],
 "metadata": {
  "kernelspec": {
   "display_name": "Django Shell-Plus",
   "language": "python",
   "name": "django_extensions"
  },
  "language_info": {
   "codemirror_mode": {
    "name": "ipython",
    "version": 3
   },
   "file_extension": ".py",
   "mimetype": "text/x-python",
   "name": "python",
   "nbconvert_exporter": "python",
   "pygments_lexer": "ipython3",
   "version": "3.12.3"
  }
 },
 "nbformat": 4,
 "nbformat_minor": 5
}
