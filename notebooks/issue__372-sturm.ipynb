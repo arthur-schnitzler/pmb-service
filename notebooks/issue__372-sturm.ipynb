{
 "cells": [
  {
   "cell_type": "code",
   "execution_count": null,
   "id": "1b65586d-d4ed-4723-96f3-fc30e57bcd0b",
   "metadata": {},
   "outputs": [],
   "source": [
    "# 2025-10-28 against production\n",
    "from tqdm import tqdm\n",
    "from django.core.exceptions import ObjectDoesNotExist\n",
    "import requests\n",
    "from dumper.utils import process_beacon\n",
    "from normdata.utils import import_from_normdata\n",
    "from AcdhArcheAssets.uri_norm_rules import get_normalized_uri"
   ]
  },
  {
   "cell_type": "code",
   "execution_count": null,
   "id": "70a7fdec-7821-41fb-b02e-0d2b65282045",
   "metadata": {},
   "outputs": [],
   "source": [
    "beacon_url = \"https://raw.githubusercontent.com/digicademy/sturm-exist-app/refs/heads/master/html/beacon/personen.txt\"\n",
    "domain = \"sturm\""
   ]
  },
  {
   "cell_type": "code",
   "execution_count": null,
   "id": "a11ceef8-e91e-4d04-ad96-e4b45c174ec5",
   "metadata": {},
   "outputs": [],
   "source": [
    "r = requests.get(beacon_url)\n",
    "lines = r.content.decode(\"utf-8\").split(\"\\n\")\n",
    "col, _ = Collection.objects.get_or_create(name=\"Der Sturm\")"
   ]
  },
  {
   "cell_type": "code",
   "execution_count": null,
   "id": "71ca025c-36f8-47d3-b0f0-b339933c5ee1",
   "metadata": {},
   "outputs": [],
   "source": [
    "for x in tqdm(lines, total=len(lines)):\n",
    "    if \"|\" in x and not x.startswith(\"#\"):\n",
    "        gnd, beacon_uri = get_normalized_uri(x.split(\"|\")[0]), x.split(\"|\")[-1]\n",
    "        gnd = f\"https://d-nb.info/gnd/{gnd}\"\n",
    "        try:\n",
    "            item = Uri.objects.get(uri=gnd)\n",
    "            entity = item.entity\n",
    "        except ObjectDoesNotExist:\n",
    "            entity = import_from_normdata(gnd, \"person\")\n",
    "        try:\n",
    "            entity.collection.add(col)\n",
    "        except AttributeError:\n",
    "            print(gnd, beacon_uri)\n",
    "            continue\n",
    "        try:\n",
    "            Uri.objects.get(uri=beacon_uri)\n",
    "            continue\n",
    "        except ObjectDoesNotExist:\n",
    "            new_uri = Uri.objects.create(uri=beacon_uri, entity=entity)\n",
    "            new_uri.domain = domain\n",
    "            new_uri.save()"
   ]
  }
 ],
 "metadata": {
  "kernelspec": {
   "display_name": "Django Shell-Plus",
   "language": "python",
   "name": "django_extensions"
  },
  "language_info": {
   "codemirror_mode": {
    "name": "ipython",
    "version": 3
   },
   "file_extension": ".py",
   "mimetype": "text/x-python",
   "name": "python",
   "nbconvert_exporter": "python",
   "pygments_lexer": "ipython3",
   "version": "3.12.3"
  }
 },
 "nbformat": 4,
 "nbformat_minor": 5
}
