{
 "cells": [
  {
   "cell_type": "code",
   "execution_count": null,
   "id": "1db35ca3-8dda-4267-bdd9-49b855b4a21d",
   "metadata": {},
   "outputs": [],
   "source": [
    "# 2025-04-14 run against production\n",
    "from tqdm import tqdm"
   ]
  },
  {
   "cell_type": "code",
   "execution_count": null,
   "id": "dd8be83a-07f1-4ae1-a688-a71942ab21f5",
   "metadata": {},
   "outputs": [],
   "source": [
    "work_work_type = WorkWorkRelation.objects.get(name=\"enthält\")\n",
    "schaubuehne = Work.objects.get(id=\"41564\")"
   ]
  },
  {
   "cell_type": "code",
   "execution_count": null,
   "id": "ec8fd71c-0468-4ccc-a862-160af2e84a76",
   "metadata": {},
   "outputs": [],
   "source": [
    "items = Work.objects.filter(collection=42)"
   ]
  },
  {
   "cell_type": "code",
   "execution_count": null,
   "id": "dbb44a25-330c-4057-9fcc-53e8d9d92ee6",
   "metadata": {
    "scrolled": true
   },
   "outputs": [],
   "source": [
    "for entity in tqdm(items, total=items.count()):\n",
    "    start_date = entity.start_date\n",
    "    WorkWork.objects.get_or_create(\n",
    "        related_worka=schaubuehne,\n",
    "        related_workb=entity,\n",
    "        relation_type=work_work_type,\n",
    "        start_date_written=start_date\n",
    "    )\n",
    "    "
   ]
  },
  {
   "cell_type": "code",
   "execution_count": null,
   "id": "c9ee6bc6-82b2-4678-b977-5cf6728c900b",
   "metadata": {},
   "outputs": [],
   "source": []
  }
 ],
 "metadata": {
  "kernelspec": {
   "display_name": "Django Shell-Plus",
   "language": "python",
   "name": "django_extensions"
  },
  "language_info": {
   "codemirror_mode": {
    "name": "ipython",
    "version": 3
   },
   "file_extension": ".py",
   "mimetype": "text/x-python",
   "name": "python",
   "nbconvert_exporter": "python",
   "pygments_lexer": "ipython3",
   "version": "3.12.3"
  }
 },
 "nbformat": 4,
 "nbformat_minor": 5
}
